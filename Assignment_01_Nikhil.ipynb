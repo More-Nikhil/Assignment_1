{
  "nbformat": 4,
  "nbformat_minor": 0,
  "metadata": {
    "colab": {
      "provenance": [],
      "collapsed_sections": []
    },
    "kernelspec": {
      "name": "python3",
      "display_name": "Python 3"
    },
    "language_info": {
      "name": "python"
    }
  },
  "cells": [
    {
      "cell_type": "markdown",
      "source": [
        "\n",
        "\n",
        "##1. Find out all the types of error that we have encountered in our lecture and why? Also include the examples.\n"
      ],
      "metadata": {
        "id": "tA1wCf3EtyiV"
      }
    },
    {
      "cell_type": "code",
      "source": [
        "Print(\"My name is Nikhil\") #Python is Case sensative P should be in small-case as print is reserved keyword."
      ],
      "metadata": {
        "colab": {
          "base_uri": "https://localhost:8080/",
          "height": 165
        },
        "id": "OnjpDRX4t6Gd",
        "outputId": "5ad0e513-c86b-4f8c-ed68-840077b0fff2"
      },
      "execution_count": 43,
      "outputs": [
        {
          "output_type": "error",
          "ename": "NameError",
          "evalue": "ignored",
          "traceback": [
            "\u001b[0;31m---------------------------------------------------------------------------\u001b[0m",
            "\u001b[0;31mNameError\u001b[0m                                 Traceback (most recent call last)",
            "\u001b[0;32m<ipython-input-43-a0906b6f6eaf>\u001b[0m in \u001b[0;36m<module>\u001b[0;34m\u001b[0m\n\u001b[0;32m----> 1\u001b[0;31m \u001b[0mPrint\u001b[0m\u001b[0;34m(\u001b[0m\u001b[0;34m\"My name is Nikhil\"\u001b[0m\u001b[0;34m)\u001b[0m\u001b[0;34m\u001b[0m\u001b[0;34m\u001b[0m\u001b[0m\n\u001b[0m",
            "\u001b[0;31mNameError\u001b[0m: name 'Print' is not defined"
          ]
        }
      ]
    },
    {
      "cell_type": "code",
      "source": [
        "print(\"My name is Nikhil\")"
      ],
      "metadata": {
        "colab": {
          "base_uri": "https://localhost:8080/"
        },
        "id": "2UMt1Zut7FC-",
        "outputId": "37e33a72-2156-4aba-f351-4dc6e7929ddd"
      },
      "execution_count": 45,
      "outputs": [
        {
          "output_type": "stream",
          "name": "stdout",
          "text": [
            "My name is Nikhil\n"
          ]
        }
      ]
    },
    {
      "cell_type": "code",
      "source": [
        "print(\"I am \n",
        "Nikhil\")                \n",
        "                 #Multiline programm cannot written in between double quot(\"). It should be written in between tripple quot (\"\"\")"
      ],
      "metadata": {
        "colab": {
          "base_uri": "https://localhost:8080/",
          "height": 130
        },
        "id": "wYGaplmV6Lwm",
        "outputId": "f796ea47-6271-4694-fef9-a26eb501703c"
      },
      "execution_count": 46,
      "outputs": [
        {
          "output_type": "error",
          "ename": "SyntaxError",
          "evalue": "ignored",
          "traceback": [
            "\u001b[0;36m  File \u001b[0;32m\"<ipython-input-46-5b5b19069005>\"\u001b[0;36m, line \u001b[0;32m1\u001b[0m\n\u001b[0;31m    print(\"I am\u001b[0m\n\u001b[0m                ^\u001b[0m\n\u001b[0;31mSyntaxError\u001b[0m\u001b[0;31m:\u001b[0m EOL while scanning string literal\n"
          ]
        }
      ]
    },
    {
      "cell_type": "code",
      "source": [
        "print(\"\"\"I am \n",
        "Nikhil\"\"\")"
      ],
      "metadata": {
        "colab": {
          "base_uri": "https://localhost:8080/"
        },
        "id": "bsmf5WMx7LIU",
        "outputId": "87b3deca-39ea-46f4-cede-e9e5093667ba"
      },
      "execution_count": 47,
      "outputs": [
        {
          "output_type": "stream",
          "name": "stdout",
          "text": [
            "I am \n",
            "Nikhil\n"
          ]
        }
      ]
    },
    {
      "cell_type": "code",
      "source": [
        "print(\"My name is \"Nikhil\"\") \n",
        "\"\"\"Cannot Highlight any word with same quots like in statement double quot is used for print statement and to highlight name.\n",
        "To highlight any word used single quot\"\"\""
      ],
      "metadata": {
        "colab": {
          "base_uri": "https://localhost:8080/",
          "height": 70
        },
        "id": "Y3Px5GgR7cav",
        "outputId": "6f777864-01a0-4295-8914-b3d0568d209c"
      },
      "execution_count": 51,
      "outputs": [
        {
          "output_type": "stream",
          "name": "stdout",
          "text": [
            "My name is 'Nikhil'\n"
          ]
        },
        {
          "output_type": "execute_result",
          "data": {
            "text/plain": [
              "'Cannot Highlight any word with same quots like in statement double quot is used for print statement and to highlight name.\\nTo highlight any word used single quot'"
            ],
            "application/vnd.google.colaboratory.intrinsic+json": {
              "type": "string"
            }
          },
          "metadata": {},
          "execution_count": 51
        }
      ]
    },
    {
      "cell_type": "code",
      "source": [
        "print(\"My name is 'Nikhil'\") "
      ],
      "metadata": {
        "colab": {
          "base_uri": "https://localhost:8080/"
        },
        "id": "IzdOg4hN9HDI",
        "outputId": "e8f0161a-5446-4e8e-c06d-3f3bed11642c"
      },
      "execution_count": 53,
      "outputs": [
        {
          "output_type": "stream",
          "name": "stdout",
          "text": [
            "My name is 'Nikhil'\n"
          ]
        }
      ]
    },
    {
      "cell_type": "code",
      "source": [
        "print('My name is \"Nikhil\"') "
      ],
      "metadata": {
        "colab": {
          "base_uri": "https://localhost:8080/"
        },
        "id": "lwFLrbux9M3Q",
        "outputId": "babd6bdc-301c-49d7-97a8-3303c643d851"
      },
      "execution_count": 54,
      "outputs": [
        {
          "output_type": "stream",
          "name": "stdout",
          "text": [
            "My name is \"Nikhil\"\n"
          ]
        }
      ]
    },
    {
      "cell_type": "code",
      "source": [
        "print(\"\"\"My name is 'Nikhil'\"\"\") "
      ],
      "metadata": {
        "colab": {
          "base_uri": "https://localhost:8080/"
        },
        "id": "ModT1nBq9SWm",
        "outputId": "3457770d-9476-4e05-8ab9-23898956e022"
      },
      "execution_count": 56,
      "outputs": [
        {
          "output_type": "stream",
          "name": "stdout",
          "text": [
            "My name is 'Nikhil'\n"
          ]
        }
      ]
    },
    {
      "cell_type": "code",
      "source": [
        "ab$c = 20           #Verable should not contain special character.\n",
        "print(ab$c)"
      ],
      "metadata": {
        "colab": {
          "base_uri": "https://localhost:8080/",
          "height": 130
        },
        "id": "Ht_s7xvP-YUQ",
        "outputId": "8780afc9-5b24-4fed-b87c-f0cf6e28bf99"
      },
      "execution_count": 60,
      "outputs": [
        {
          "output_type": "error",
          "ename": "SyntaxError",
          "evalue": "ignored",
          "traceback": [
            "\u001b[0;36m  File \u001b[0;32m\"<ipython-input-60-4c1a389b909a>\"\u001b[0;36m, line \u001b[0;32m1\u001b[0m\n\u001b[0;31m    ab$c = 20           #Verable should not start with number.\u001b[0m\n\u001b[0m      ^\u001b[0m\n\u001b[0;31mSyntaxError\u001b[0m\u001b[0;31m:\u001b[0m invalid syntax\n"
          ]
        }
      ]
    },
    {
      "cell_type": "code",
      "source": [
        "abc = 20          \n",
        "print(abc)"
      ],
      "metadata": {
        "colab": {
          "base_uri": "https://localhost:8080/"
        },
        "id": "UR3N6mKH-m20",
        "outputId": "2201859a-c450-46e0-d50b-51ce70073e88"
      },
      "execution_count": 62,
      "outputs": [
        {
          "output_type": "stream",
          "name": "stdout",
          "text": [
            "20\n"
          ]
        }
      ]
    },
    {
      "cell_type": "code",
      "source": [
        "10a = 20           #Verable should not start with number.\n",
        "print(10a)      "
      ],
      "metadata": {
        "colab": {
          "base_uri": "https://localhost:8080/",
          "height": 130
        },
        "id": "k2JiwTAN9wdh",
        "outputId": "b643e94c-d922-456b-df2f-12af75535be0"
      },
      "execution_count": 61,
      "outputs": [
        {
          "output_type": "error",
          "ename": "SyntaxError",
          "evalue": "ignored",
          "traceback": [
            "\u001b[0;36m  File \u001b[0;32m\"<ipython-input-61-d276577166fd>\"\u001b[0;36m, line \u001b[0;32m1\u001b[0m\n\u001b[0;31m    10a = 20           #Verable should not start with number.\u001b[0m\n\u001b[0m      ^\u001b[0m\n\u001b[0;31mSyntaxError\u001b[0m\u001b[0;31m:\u001b[0m invalid syntax\n"
          ]
        }
      ]
    },
    {
      "cell_type": "code",
      "source": [
        "a = 20          \n",
        "print(a)"
      ],
      "metadata": {
        "colab": {
          "base_uri": "https://localhost:8080/"
        },
        "id": "4bp-bEZY-ID2",
        "outputId": "53cedf96-69dc-4663-fcf7-d05f84c7f7ff"
      },
      "execution_count": 59,
      "outputs": [
        {
          "output_type": "stream",
          "name": "stdout",
          "text": [
            "20\n"
          ]
        }
      ]
    },
    {
      "cell_type": "code",
      "source": [
        "\"Pune\" + 1     #Cannot jont string and intiger data type together. Both data type should be same"
      ],
      "metadata": {
        "colab": {
          "base_uri": "https://localhost:8080/",
          "height": 165
        },
        "id": "-ruVyN0PbJpZ",
        "outputId": "a42b76b2-23a5-4cf4-fe08-2086149524ad"
      },
      "execution_count": 1,
      "outputs": [
        {
          "output_type": "error",
          "ename": "TypeError",
          "evalue": "ignored",
          "traceback": [
            "\u001b[0;31m---------------------------------------------------------------------------\u001b[0m",
            "\u001b[0;31mTypeError\u001b[0m                                 Traceback (most recent call last)",
            "\u001b[0;32m<ipython-input-1-8d26769fde85>\u001b[0m in \u001b[0;36m<module>\u001b[0;34m\u001b[0m\n\u001b[0;32m----> 1\u001b[0;31m \u001b[0;34m\"Pune\"\u001b[0m \u001b[0;34m+\u001b[0m \u001b[0;36m1\u001b[0m\u001b[0;34m\u001b[0m\u001b[0;34m\u001b[0m\u001b[0m\n\u001b[0m",
            "\u001b[0;31mTypeError\u001b[0m: can only concatenate str (not \"int\") to str"
          ]
        }
      ]
    },
    {
      "cell_type": "code",
      "source": [
        "\"pune \" + \"City\""
      ],
      "metadata": {
        "colab": {
          "base_uri": "https://localhost:8080/",
          "height": 35
        },
        "id": "FCelMI-EboRg",
        "outputId": "b9479859-70cf-4c82-87e6-dcd5002f6770"
      },
      "execution_count": 3,
      "outputs": [
        {
          "output_type": "execute_result",
          "data": {
            "text/plain": [
              "'pune City'"
            ],
            "application/vnd.google.colaboratory.intrinsic+json": {
              "type": "string"
            }
          },
          "metadata": {},
          "execution_count": 3
        }
      ]
    },
    {
      "cell_type": "code",
      "source": [
        "23 + 56"
      ],
      "metadata": {
        "colab": {
          "base_uri": "https://localhost:8080/"
        },
        "id": "zvz1orpnbuoJ",
        "outputId": "cd630182-b54c-42f7-9b82-1177c44e02f9"
      },
      "execution_count": 4,
      "outputs": [
        {
          "output_type": "execute_result",
          "data": {
            "text/plain": [
              "79"
            ]
          },
          "metadata": {},
          "execution_count": 4
        }
      ]
    },
    {
      "cell_type": "markdown",
      "source": [
        "##2. Take input A and B and print their sum, mul, div, square of the nos."
      ],
      "metadata": {
        "id": "OHupH_Y8t6fl"
      }
    },
    {
      "cell_type": "code",
      "source": [
        "A = int(input(\"Enter value of A: \"))\n",
        "B = float(input(\"Enter value of B: \"))"
      ],
      "metadata": {
        "colab": {
          "base_uri": "https://localhost:8080/"
        },
        "id": "_Gx-iEpruBjQ",
        "outputId": "c7122062-45c8-4fd8-ac99-ecab64bd0821"
      },
      "execution_count": 10,
      "outputs": [
        {
          "name": "stdout",
          "output_type": "stream",
          "text": [
            "Enter value of A: 20\n",
            "Enter value of B: 30\n"
          ]
        }
      ]
    },
    {
      "cell_type": "code",
      "source": [
        "print(f\"Sum of {A} and {B} is {A+B}\")"
      ],
      "metadata": {
        "colab": {
          "base_uri": "https://localhost:8080/"
        },
        "id": "roWRcO9XuYuW",
        "outputId": "032c63e7-d461-4196-d529-bf58a0ab0800"
      },
      "execution_count": 35,
      "outputs": [
        {
          "output_type": "stream",
          "name": "stdout",
          "text": [
            "Sum of 20 and 30.0 is 50.0\n"
          ]
        }
      ]
    },
    {
      "cell_type": "code",
      "source": [
        "print(f\"Multiplication of {A} and {B} is {A*B}\")"
      ],
      "metadata": {
        "colab": {
          "base_uri": "https://localhost:8080/"
        },
        "id": "XRcsR0ymu9dM",
        "outputId": "574de07c-0ad1-4c69-efd1-e2f74785a7e5"
      },
      "execution_count": 13,
      "outputs": [
        {
          "output_type": "execute_result",
          "data": {
            "text/plain": [
              "600.0"
            ]
          },
          "metadata": {},
          "execution_count": 13
        }
      ]
    },
    {
      "cell_type": "code",
      "source": [
        "print(f\"Value of {A} devide by {B} is {A/B}\")"
      ],
      "metadata": {
        "colab": {
          "base_uri": "https://localhost:8080/"
        },
        "id": "PXK1Ko-AvDDE",
        "outputId": "b10a4496-dd8d-475b-c1f7-c141b003d355"
      },
      "execution_count": 36,
      "outputs": [
        {
          "output_type": "stream",
          "name": "stdout",
          "text": [
            "Value of 20 devide by 30.0 is 0.6666666666666666\n"
          ]
        }
      ]
    },
    {
      "cell_type": "code",
      "source": [
        "print(f\"Square of {A} is {A**2}\")"
      ],
      "metadata": {
        "colab": {
          "base_uri": "https://localhost:8080/"
        },
        "id": "2IDOH4JfvGgO",
        "outputId": "e44a1371-f8b6-445f-8904-9ab3a8a3be11"
      },
      "execution_count": 37,
      "outputs": [
        {
          "output_type": "stream",
          "name": "stdout",
          "text": [
            "Square of 20 is 400\n"
          ]
        }
      ]
    },
    {
      "cell_type": "code",
      "source": [
        "print(f\"Square of {B} is {B**2}\")"
      ],
      "metadata": {
        "colab": {
          "base_uri": "https://localhost:8080/"
        },
        "id": "nwvxluqJvMeq",
        "outputId": "27dfe6a8-0328-4333-ab88-b9207c3e6985"
      },
      "execution_count": 38,
      "outputs": [
        {
          "output_type": "stream",
          "name": "stdout",
          "text": [
            "Square of 30.0 is 900.0\n"
          ]
        }
      ]
    },
    {
      "cell_type": "markdown",
      "source": [
        "##3. How many reserve keywords are there in python and why we should not use them as a variable name."
      ],
      "metadata": {
        "id": "S715bIs6vdFk"
      }
    },
    {
      "cell_type": "markdown",
      "source": [
        "There are total 33 reserve keywords in python as below - \n",
        "print, and, else, in, return, as, except, is, true, assert, finally, lambda, try, break, false, nonlocal, with, class, for, None, while, continue, from, not, yield, def, global, or, del, if, pass, elif, import, raise"
      ],
      "metadata": {
        "id": "Dc8-0sdLvxxH"
      }
    },
    {
      "cell_type": "markdown",
      "source": [
        "##4. Create email ids with the user inputs. in the following format - lastname.firstname@gmail.com"
      ],
      "metadata": {
        "id": "B1r0HnRqyD7c"
      }
    },
    {
      "cell_type": "code",
      "source": [
        "first_name = input(\"Enter First name: \")\n",
        "last_name = input(\"Enter last name: \")\n",
        "print (f\"Your email ID is {last_name}.{first_name}@gmail.com\")"
      ],
      "metadata": {
        "colab": {
          "base_uri": "https://localhost:8080/"
        },
        "id": "3dGuW0UqyHSd",
        "outputId": "96e21f75-1a18-4121-a78a-79967ecb0f9b"
      },
      "execution_count": 18,
      "outputs": [
        {
          "output_type": "stream",
          "name": "stdout",
          "text": [
            "Enter First name: nikhil\n",
            "Enter last name: more\n",
            "Your email ID is more.nikhil@gmail.com\n"
          ]
        }
      ]
    },
    {
      "cell_type": "markdown",
      "source": [
        "##5. Try to print the following lines -\n",
        "1. Hi I'm Sunny\n",
        "2. My address is 22\\3\n",
        "3. I earn 20$ daily."
      ],
      "metadata": {
        "id": "ZjCooXf9y_Dk"
      }
    },
    {
      "cell_type": "code",
      "source": [
        "print(\"I am Nikhil\")"
      ],
      "metadata": {
        "colab": {
          "base_uri": "https://localhost:8080/"
        },
        "id": "D1XNMECAzNmc",
        "outputId": "2b5922e4-4dba-47f8-eb00-3c858c7b9604"
      },
      "execution_count": 19,
      "outputs": [
        {
          "output_type": "stream",
          "name": "stdout",
          "text": [
            "I am Nikhil\n"
          ]
        }
      ]
    },
    {
      "cell_type": "code",
      "source": [
        "print(\"My address is 22\\3\")"
      ],
      "metadata": {
        "colab": {
          "base_uri": "https://localhost:8080/"
        },
        "id": "selxPnUnvQju",
        "outputId": "c01d48ed-3e66-40f0-f0f2-7c631cabb596"
      },
      "execution_count": 20,
      "outputs": [
        {
          "output_type": "stream",
          "name": "stdout",
          "text": [
            "My address is 22\u0003\n"
          ]
        }
      ]
    },
    {
      "cell_type": "code",
      "source": [
        "print(\"I earn 20$ daily\")"
      ],
      "metadata": {
        "colab": {
          "base_uri": "https://localhost:8080/"
        },
        "id": "tBirySarzX0O",
        "outputId": "68e39798-237c-4090-9930-9defa8b099b8"
      },
      "execution_count": 21,
      "outputs": [
        {
          "output_type": "stream",
          "name": "stdout",
          "text": [
            "I earn 20$ daily\n"
          ]
        }
      ]
    },
    {
      "cell_type": "markdown",
      "source": [
        "##6. Take user input (name, address, date of birth etc) to fill a form for your college and print their email IDs"
      ],
      "metadata": {
        "id": "Qq3UvV8Jzg85"
      }
    },
    {
      "cell_type": "code",
      "source": [
        "first_name = input(\"Enter your first name: \")\n",
        "last_name = input(\"Enter your last name: \")\n",
        "address = input(\"Enter your Address: \")\n",
        "date_of_birth = input(\"Enter your date of birth\")\n",
        "print(f\"\"\" Name of student: {first_name} {last_name}\n",
        "Address of student: {address}\n",
        "Date of birth of student: {date_of_birth} \"\"\")\n",
        "print(f\"your email ID is {first_name}.{last_name}@gmail.com\")"
      ],
      "metadata": {
        "colab": {
          "base_uri": "https://localhost:8080/"
        },
        "id": "Dgehm8ZtznXk",
        "outputId": "1188d861-44a2-4ab5-db84-f89b1d6c8d25"
      },
      "execution_count": 67,
      "outputs": [
        {
          "output_type": "stream",
          "name": "stdout",
          "text": [
            "Enter your first name: nikhil\n",
            "Enter your last name: more\n",
            "Enter your Address: pune\n",
            "Enter your date of birth1995\n",
            " Name of student: nikhil more\n",
            "Address of student: pune\n",
            "Date of birth of student: 1995 \n",
            "your email ID is nikhil.more@gmail.com\n"
          ]
        }
      ]
    },
    {
      "cell_type": "code",
      "source": [
        "first_name = input(\"Enter your first name: \")\n",
        "last_name = input(\"Enter your last name: \")\n",
        "address = input(\"Enter your Address: \")\n",
        "date_of_birth = input(\"Enter your date of birth\")\n",
        "print(f\"\"\" Name of student: {first_name} {last_name}\n",
        "Address of student: {address}\n",
        "Date of birth of student: {date_of_birth} \n",
        "Your email ID is {first_name}.{last_name}@gmail.com\"\"\")"
      ],
      "metadata": {
        "colab": {
          "base_uri": "https://localhost:8080/"
        },
        "id": "pYhhug6VAvIX",
        "outputId": "7acfc05a-054d-42b7-d1eb-489e11343adf"
      },
      "execution_count": 68,
      "outputs": [
        {
          "output_type": "stream",
          "name": "stdout",
          "text": [
            "Enter your first name: nikhil\n",
            "Enter your last name: more\n",
            "Enter your Address: pune\n",
            "Enter your date of birth26/10/95\n",
            " Name of student: nikhil more\n",
            "Address of student: pune\n",
            "Date of birth of student: 26/10/95 \n",
            "Your email ID is nikhil.more@gmail.com\n"
          ]
        }
      ]
    },
    {
      "cell_type": "markdown",
      "source": [
        "##7. \n",
        "1. \"22.4\" into integer \n",
        "2. \"22\" into complex no."
      ],
      "metadata": {
        "id": "D_yYRV6A0rds"
      }
    },
    {
      "cell_type": "code",
      "source": [
        "a= 22.4\n",
        "print(type(a))\n",
        "int(a)\n",
        "print(type (int(a)))"
      ],
      "metadata": {
        "colab": {
          "base_uri": "https://localhost:8080/"
        },
        "id": "jW-u5QmF0qGF",
        "outputId": "aeaf061d-b320-4e28-c4be-24d06b42b687"
      },
      "execution_count": 30,
      "outputs": [
        {
          "output_type": "stream",
          "name": "stdout",
          "text": [
            "<class 'float'>\n",
            "<class 'int'>\n"
          ]
        }
      ]
    },
    {
      "cell_type": "code",
      "source": [
        "a= 22.4\n",
        "print(type(a))\n",
        "int(a)"
      ],
      "metadata": {
        "colab": {
          "base_uri": "https://localhost:8080/"
        },
        "id": "1bZvIJ2A1s9J",
        "outputId": "1118c253-5017-4b16-b2e0-ccffd14ca9ba"
      },
      "execution_count": 31,
      "outputs": [
        {
          "output_type": "stream",
          "name": "stdout",
          "text": [
            "<class 'float'>\n"
          ]
        },
        {
          "output_type": "execute_result",
          "data": {
            "text/plain": [
              "22"
            ]
          },
          "metadata": {},
          "execution_count": 31
        }
      ]
    },
    {
      "cell_type": "code",
      "source": [
        "b = 22\n",
        "print(type(b))\n",
        "complex(b)\n",
        "print(type(complex(b)))"
      ],
      "metadata": {
        "colab": {
          "base_uri": "https://localhost:8080/"
        },
        "id": "N3-EebDt1vxs",
        "outputId": "02ac28f1-6ae9-4f31-dcfe-c19296c79965"
      },
      "execution_count": 41,
      "outputs": [
        {
          "output_type": "stream",
          "name": "stdout",
          "text": [
            "<class 'int'>\n",
            "<class 'complex'>\n"
          ]
        }
      ]
    },
    {
      "cell_type": "code",
      "source": [
        "b = 22\n",
        "print(type(b))\n",
        "complex(b)"
      ],
      "metadata": {
        "colab": {
          "base_uri": "https://localhost:8080/"
        },
        "id": "mZfSU8p_5ZFa",
        "outputId": "61d83280-3812-4220-d376-cd5b907ba758"
      },
      "execution_count": 42,
      "outputs": [
        {
          "output_type": "stream",
          "name": "stdout",
          "text": [
            "<class 'int'>\n"
          ]
        },
        {
          "output_type": "execute_result",
          "data": {
            "text/plain": [
              "(22+0j)"
            ]
          },
          "metadata": {},
          "execution_count": 42
        }
      ]
    }
  ]
}